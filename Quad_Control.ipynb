{
 "cells": [
  {
   "cell_type": "code",
   "execution_count": 5,
   "id": "610f3186",
   "metadata": {},
   "outputs": [],
   "source": [
    "import numpy as np\n",
    "import matplotlib.pyplot as plt"
   ]
  },
  {
   "cell_type": "code",
   "execution_count": 6,
   "id": "d1d0b3ef",
   "metadata": {},
   "outputs": [],
   "source": [
    "# Constants\n",
    "DT = 0.01  # Time step\n",
    "G = 9.81  # Gravity\n",
    "MASS = 1.0  # Mass of quadcopter\n",
    "INERTIA = 1.0  # Inertia of quadcopter\n",
    "L = 1.0  # Length of pendulum\n",
    "KF = 0.1  # Low-pass filter constant\n",
    "KP = 1.0  # Proportional gain\n",
    "KI = 1.0  # Integral gain\n",
    "KD = 1.0  # Derivative gain"
   ]
  },
  {
   "cell_type": "code",
   "execution_count": 7,
   "id": "d254f999",
   "metadata": {},
   "outputs": [],
   "source": [
    "# Initial conditions\n",
    "x = np.array([0.0, 0.0])  # State (angle, angular velocity)\n",
    "u = 0.0  # Control input (force)\n"
   ]
  },
  {
   "cell_type": "code",
   "execution_count": 8,
   "id": "f1c8b5b7",
   "metadata": {},
   "outputs": [
    {
     "data": {
      "image/png": "[encoded data removed]",
      "text/plain": [
       "<Figure size 432x288 with 1 Axes>"
      ]
     },
     "metadata": {
      "needs_background": "light"
     },
     "output_type": "display_data"
    }
   ],
   "source": [
    "# Simulation loop\n",
    "for t in np.arange(0.0, 10.0, DT):\n",
    "    # Read sensor data\n",
    "    y = x[0]  # Position of pendulum\n",
    "\n",
    "    # Calculate error\n",
    "    error = 0.0 - y\n",
    "\n",
    "    # Calculate control signal\n",
    "    u_ff = G * MASS / L  # Feedforward term\n",
    "    u_p = KP * error  # Proportional term\n",
    "    u_i = KI * error * DT  # Integral term\n",
    "    u_d = KD * (error - x[1]) / DT  # Derivative term\n",
    "    u = u_ff + u_p + u_i + u_d  # Total control signal\n",
    "\n",
    "    # Low-pass filter\n",
    "    u = u * KF + u * DT  # Apply filter\n",
    "\n",
    "    # Update state\n",
    "    x_dot = np.array([x[1], -G * np.sin(x[0]) / L + u / (MASS * L**2)])\n",
    "    x = x + x_dot * DT\n",
    "\n",
    "    # Plot results\n",
    "    \n",
    "    plt.plot(t, x[0], 'b.')\n",
    "    \n",
    "plt.grid()\n",
    "plt.show()"
   ]
  },
  {
   "cell_type": "code",
   "execution_count": null,
   "id": "e6c7ee16",
   "metadata": {},
   "outputs": [],
   "source": []
  }
 ],
 "metadata": {
  "kernelspec": {
   "display_name": "Python 3 (ipykernel)",
   "language": "python",
   "name": "python3"
  },
  "language_info": {
   "codemirror_mode": {
    "name": "ipython",
    "version": 3
   },
   "file_extension": ".py",
   "mimetype": "text/x-python",
   "name": "python",
   "nbconvert_exporter": "python",
   "pygments_lexer": "ipython3",
   "version": "3.9.12"
  }
 },
 "nbformat": 4,
 "nbformat_minor": 5
}
